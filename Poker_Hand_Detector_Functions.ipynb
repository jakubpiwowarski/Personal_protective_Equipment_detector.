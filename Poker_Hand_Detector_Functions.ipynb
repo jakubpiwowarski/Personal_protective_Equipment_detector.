{
  "nbformat": 4,
  "nbformat_minor": 0,
  "metadata": {
    "colab": {
      "provenance": [],
      "mount_file_id": "1OHevD6-DORsRj476xtmpWQ-MZF6g1Q9N",
      "authorship_tag": "ABX9TyOFdJsos8n3igaJkU8/qV0h",
      "include_colab_link": true
    },
    "kernelspec": {
      "name": "python3",
      "display_name": "Python 3"
    },
    "language_info": {
      "name": "python"
    }
  },
  "cells": [
    {
      "cell_type": "markdown",
      "metadata": {
        "id": "view-in-github",
        "colab_type": "text"
      },
      "source": [
        "<a href=\"https://colab.research.google.com/github/jakubpiwowarski/Personal_protective_equipment_detector/blob/main/Poker_Hand_Detector_Functions.ipynb\" target=\"_parent\"><img src=\"https://colab.research.google.com/assets/colab-badge.svg\" alt=\"Open In Colab\"/></a>"
      ]
    },
    {
      "cell_type": "code",
      "execution_count": 18,
      "metadata": {
        "colab": {
          "base_uri": "https://localhost:8080/"
        },
        "id": "6rJ9WHHl9I7c",
        "outputId": "3b1c1702-7264-41ce-b33a-d840008c8789"
      },
      "outputs": [
        {
          "output_type": "stream",
          "name": "stdout",
          "text": [
            "['AH', 'KH', 'QH', 'JH', '10H'] Royal Flush\n",
            "['QC', 'JC', '10C', '9C', '8C'] Flush\n",
            "['5C', '5S', '5H', '5D', 'QH'] High Card\n",
            "['2D', '2S', '2H', '10h', '10C'] High Card\n",
            "['2D', 'KD', '7D', '6D', '5D'] Flush\n"
          ]
        }
      ],
      "source": [
        "def findPokerHand(hand):\n",
        "\n",
        "  ranks=[]\n",
        "  suits=[]\n",
        "  possibleRanks =[]\n",
        "\n",
        "  for card in hand:\n",
        "    if len(card) == 2:\n",
        "      rank = card[0]\n",
        "      suit = card[1]\n",
        "    else:\n",
        "        rank = card[0:2]\n",
        "        suit = card[2]\n",
        "\n",
        "    if rank == 'A':\n",
        "      rank = 14\n",
        "    elif rank == 'K':\n",
        "      rank = 13\n",
        "    elif rank == 'Q':\n",
        "      rank = 12\n",
        "    elif rank == 'J':\n",
        "      rank = 11\n",
        "\n",
        "    ranks.append(int(rank))\n",
        "    suits.append(suit)\n",
        "\n",
        "  # print(ranks,suits)\n",
        "  sortedRanks = sorted(ranks)\n",
        "\n",
        "  #Royal Flush and Straight Flush and Flush\n",
        "  if suits.count(suits[0]) == 5:\n",
        "    if 14 in sortedRanks and 13 in sortedRanks and 12 in sortedRanks and 11 in sortedRanks and 10 in sortedRanks:\n",
        "      possibleRanks.append(10)\n",
        "    else:\n",
        "      possibleRanks.append(6)\n",
        "\n",
        "\n",
        "  #Straight\n",
        "   if all(sortedRanks[i] = sortedRanks[i-1] + 1 for in range(1, len(sortedRanks)))\n",
        "\n",
        "\n",
        "\n",
        "  if not possibleRanks:\n",
        "    possibleRanks.append(1)\n",
        "    pass\n",
        "\n",
        "  pokerHandRanks = {10 : 'Royal Flush',\n",
        "                    9 : 'Straight Flush',\n",
        "                    8 : 'Four of a Kind',\n",
        "                    7 : 'Full House',\n",
        "                    6 : 'Flush',\n",
        "                    5 : 'Straight',\n",
        "                    4 : 'Three of a Kind',\n",
        "                    3 : 'Two Pair',\n",
        "                    2 : 'Pair',\n",
        "                    1 : 'High Card'}\n",
        "\n",
        "\n",
        "  output = pokerHandRanks[max(possibleRanks)]\n",
        "  print(hand,output)\n",
        "  return output\n",
        "\n",
        "if __name__ == '__main__':\n",
        "  findPokerHand([\"AH\",\"KH\",\"QH\",\"JH\",\"10H\"]) #Royal Flush\n",
        "  findPokerHand([\"QC\",\"JC\",\"10C\",\"9C\",\"8C\"]) #Straight Flush\n",
        "  findPokerHand([\"5C\",\"5S\",\"5H\",\"5D\",\"QH\"]) #Four of a Kind\n",
        "\n",
        "  findPokerHand([\"2D\",\"2S\",\"2H\",\"10h\",\"10C\"]) #Full House\n",
        "  findPokerHand([\"2D\",\"KD\",\"7D\",\"6D\",\"5D\"]) #Flush"
      ]
    }
  ]
}