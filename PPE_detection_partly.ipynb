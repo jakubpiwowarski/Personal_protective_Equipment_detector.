{
  "nbformat": 4,
  "nbformat_minor": 0,
  "metadata": {
    "colab": {
      "provenance": [],
      "gpuType": "T4",
      "toc_visible": true,
      "mount_file_id": "1VyQ1KD7upncbfhemNI6_nSet7ZTMeurt",
      "authorship_tag": "ABX9TyN9v52kIWEHOpRsPRGNbm+M",
      "include_colab_link": true
    },
    "kernelspec": {
      "name": "python3",
      "display_name": "Python 3"
    },
    "language_info": {
      "name": "python"
    },
    "accelerator": "GPU"
  },
  "cells": [
    {
      "cell_type": "markdown",
      "metadata": {
        "id": "view-in-github",
        "colab_type": "text"
      },
      "source": [
        "<a href=\"https://colab.research.google.com/github/jakubpiwowarski/Personal_protective_Equipment_detector./blob/main/PPE_detection_partly.ipynb\" target=\"_parent\"><img src=\"https://colab.research.google.com/assets/colab-badge.svg\" alt=\"Open In Colab\"/></a>"
      ]
    },
    {
      "cell_type": "code",
      "execution_count": null,
      "metadata": {
        "id": "gZN0hwqE8KRv"
      },
      "outputs": [],
      "source": [
        "import os\n",
        "HOME = os.getcwd()\n",
        "print(HOME)"
      ]
    },
    {
      "cell_type": "code",
      "source": [
        "from google.colab.patches import cv2_imshow"
      ],
      "metadata": {
        "id": "uvOP0cLy8vuJ"
      },
      "execution_count": null,
      "outputs": []
    },
    {
      "cell_type": "code",
      "source": [
        "# Pip install method (recommended)\n",
        "\n",
        "!pip install ultralytics==8.0.28\n",
        "\n",
        "from IPython import display\n",
        "display.clear_output()\n",
        "\n",
        "import ultralytics\n",
        "ultralytics.checks()"
      ],
      "metadata": {
        "id": "XD7MqOIc8xdn"
      },
      "execution_count": null,
      "outputs": []
    },
    {
      "cell_type": "code",
      "source": [
        "from ultralytics import YOLO"
      ],
      "metadata": {
        "id": "fE506WuD8zcI"
      },
      "execution_count": null,
      "outputs": []
    },
    {
      "cell_type": "code",
      "source": [
        "pip install cvzone"
      ],
      "metadata": {
        "id": "hSfOu3YG82Il"
      },
      "execution_count": null,
      "outputs": []
    },
    {
      "cell_type": "code",
      "source": [
        "import cvzone\n",
        "import math"
      ],
      "metadata": {
        "id": "qQFv8RAX84e3"
      },
      "execution_count": null,
      "outputs": []
    },
    {
      "cell_type": "code",
      "source": [
        "import cv2"
      ],
      "metadata": {
        "id": "Kf6i4Z3p875k"
      },
      "execution_count": null,
      "outputs": []
    },
    {
      "cell_type": "code",
      "source": [
        "from google.colab import drive\n",
        "drive.mount('/content/drive')"
      ],
      "metadata": {
        "id": "nsn9FXDs88jX"
      },
      "execution_count": null,
      "outputs": []
    },
    {
      "cell_type": "code",
      "source": [
        "!pip install opencv-python-headless\n",
        "!pip install google-colab"
      ],
      "metadata": {
        "id": "-77etbS88-Qj"
      },
      "execution_count": null,
      "outputs": []
    },
    {
      "cell_type": "code",
      "source": [
        "from IPython.display import display, Javascript\n",
        "from google.colab.output import eval_js\n",
        "from base64 import b64decode\n",
        "\n",
        "def take_photo(filename='photo.jpg', quality=0.8):\n",
        "  js = Javascript('''\n",
        "    async function takePhoto(quality) {\n",
        "      const div = document.createElement('div');\n",
        "      const capture = document.createElement('button');\n",
        "      capture.textContent = 'Capture';\n",
        "      div.appendChild(capture);\n",
        "\n",
        "      const video = document.createElement('video');\n",
        "      video.style.display = 'block';\n",
        "      const stream = await navigator.mediaDevices.getUserMedia({video: true});\n",
        "\n",
        "      document.body.appendChild(div);\n",
        "      div.appendChild(video);\n",
        "      video.srcObject = stream;\n",
        "      await video.play();\n",
        "\n",
        "      // Resize the output to fit the video element.\n",
        "      google.colab.output.setIframeHeight(document.documentElement.scrollHeight, true);\n",
        "\n",
        "      // Wait for Capture to be clicked.\n",
        "      await new Promise((resolve) => capture.onclick = resolve);\n",
        "\n",
        "      const canvas = document.createElement('canvas');\n",
        "      canvas.width = video.videoWidth;\n",
        "      canvas.height = video.videoHeight;\n",
        "      canvas.getContext('2d').drawImage(video, 0, 0);\n",
        "      stream.getVideoTracks()[0].stop();\n",
        "      div.remove();\n",
        "      return canvas.toDataURL('image/jpeg', quality);\n",
        "    }\n",
        "    ''')\n",
        "  display(js)\n",
        "  data = eval_js('takePhoto({})'.format(quality))\n",
        "  binary = b64decode(data.split(',')[1])\n",
        "  with open(filename, 'wb') as f:\n",
        "    f.write(binary)\n",
        "  return filename"
      ],
      "metadata": {
        "id": "f1P6agsQ9CGT"
      },
      "execution_count": null,
      "outputs": []
    },
    {
      "cell_type": "code",
      "source": [
        "# from IPython.display import Image\n",
        "# try:\n",
        "#   filename = take_photo()\n",
        "#   print('Saved to {}'.format(filename))\n",
        "\n",
        "#   # Show the image which was just taken.\n",
        "#   display(Image(filename))\n",
        "# except Exception as err:\n",
        "#   # Errors will be thrown if the user does not have a webcam or if they do not\n",
        "#   # grant the page permission to access it.\n",
        "#   print(str(err))"
      ],
      "metadata": {
        "id": "mv1WIHG09QI9"
      },
      "execution_count": null,
      "outputs": []
    },
    {
      "cell_type": "code",
      "source": [
        "cap = cv2.VideoCapture('/content/drive/MyDrive/101-Object_Detection/Pliki/Videos/ppe-3.mp4')"
      ],
      "metadata": {
        "id": "H7usDJz4-xUe"
      },
      "execution_count": null,
      "outputs": []
    },
    {
      "cell_type": "code",
      "source": [
        "model= YOLO('/content/drive/MyDrive/101-Object_Detection/Pliki/Project_3-PPE_Detection/ppe.pt')"
      ],
      "metadata": {
        "id": "y8oVlBYG9Tee"
      },
      "execution_count": null,
      "outputs": []
    },
    {
      "cell_type": "code",
      "source": [
        "classNames = ['Hardhat', 'Mask', 'NO-Hardhat', 'NO-Mask', 'NO-Safety Vest', 'Person', 'Safety Cone',\n",
        "              'Safety Vest', 'machinery', 'vehicle']"
      ],
      "metadata": {
        "id": "PEmUTm0g9Vbe"
      },
      "execution_count": null,
      "outputs": []
    },
    {
      "cell_type": "code",
      "source": [
        "myColor = (0,0,255)"
      ],
      "metadata": {
        "id": "lSS3ukH2FxJ6"
      },
      "execution_count": null,
      "outputs": []
    },
    {
      "cell_type": "code",
      "source": [
        "while True:\n",
        "    success, img = cap.read()\n",
        "    results = model(img,stream=True)\n",
        "    for r in results:\n",
        "        boxes = r.boxes\n",
        "        for box in boxes:\n",
        "            #bounding box\n",
        "            x1,y1,x2,y2 = box.xyxy[0]\n",
        "            x1, y1, x2, y2 = int(x1),int(y1),int(x2),int(y2)\n",
        "            # cv2.rectangle(img,(x1,y1),(x2,y2),(255,0,255),3)\n",
        "            w, h = x2-x1, y2-y1\n",
        "            bbox = int(x1), int(y1), int(x2), int(y2)\n",
        "            # cvzone.cornerRect(img,(x1,y1,w,h))\n",
        "            cv2.rectangle(img,(x1,y1),(x2,y2),(255,0,255),3)\n",
        "            #confidence\n",
        "            conf = math.ceil((box.conf[0]*100))/100\n",
        "            print(conf)\n",
        "\n",
        "            #clas name\n",
        "            cls = int(box.cls[0])\n",
        "            CurrentClass = classNames[cls]\n",
        "            if conf > 0.5:\n",
        "              if CurrentClass == 'No-Hardhat' or CurrentClass == 'No-Mask' or CurrentClass == 'No-Safety Vest':\n",
        "                myColor = (0,0,255)\n",
        "              elif CurrentClass == 'Hardhat' or CurrentClass == 'Safety Vest' or CurrentClass == 'Mask':\n",
        "                myColor = (0,255,0)\n",
        "              else:\n",
        "                  myColor = (255,0,0)\n",
        "              cvzone.putTextRect(img, f'{classNames[cls]} {conf}', (max(0, x1), max(35, y1)),scale=0.5,thickness=2\n",
        "                                colorB=myColor,colorT=(255,255,255),colorR=myColor, offset=5)\n",
        "              cv2.rectangle(img,(x1,y1),(x2,y2),myColor,3)\n",
        "\n",
        "    cv2_imshow(img)\n",
        "    cv2.waitKey(1)\n"
      ],
      "metadata": {
        "id": "B1k_Y_Qe_bXQ"
      },
      "execution_count": null,
      "outputs": []
    }
  ]
}