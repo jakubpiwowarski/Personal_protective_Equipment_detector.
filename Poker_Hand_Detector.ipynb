{
  "nbformat": 4,
  "nbformat_minor": 0,
  "metadata": {
    "colab": {
      "provenance": [],
      "gpuType": "T4",
      "authorship_tag": "ABX9TyOrSfnGiqBaRikFyLIh0UHq",
      "include_colab_link": true
    },
    "kernelspec": {
      "name": "python3",
      "display_name": "Python 3"
    },
    "language_info": {
      "name": "python"
    },
    "accelerator": "GPU"
  },
  "cells": [
    {
      "cell_type": "markdown",
      "metadata": {
        "id": "view-in-github",
        "colab_type": "text"
      },
      "source": [
        "<a href=\"https://colab.research.google.com/github/jakubpiwowarski/Personal_protective_equipment_detector/blob/main/Poker_Hand_Detector.ipynb\" target=\"_parent\"><img src=\"https://colab.research.google.com/assets/colab-badge.svg\" alt=\"Open In Colab\"/></a>"
      ]
    },
    {
      "cell_type": "code",
      "execution_count": null,
      "metadata": {
        "id": "36_Bl-ePbs60"
      },
      "outputs": [],
      "source": [
        "import os\n",
        "HOME = os.getcwd()\n",
        "print(HOME)"
      ]
    },
    {
      "cell_type": "code",
      "source": [
        "from google.colab import drive\n",
        "drive.mount('/content/drive/')"
      ],
      "metadata": {
        "id": "2BKxmusScYtx"
      },
      "execution_count": null,
      "outputs": []
    },
    {
      "cell_type": "code",
      "source": [
        "from google.colab.patches import cv2_imshow\n",
        "!pip install ultralytics==8.0.28\n",
        "\n",
        "from IPython import display\n",
        "display.clear_output()\n",
        "\n",
        "import ultralytics\n",
        "ultralytics.checks()"
      ],
      "metadata": {
        "id": "C_tg7I3GcdBc"
      },
      "execution_count": null,
      "outputs": []
    },
    {
      "cell_type": "code",
      "source": [
        "from ultralytics import YOLO"
      ],
      "metadata": {
        "id": "Y1zfvFoVceww"
      },
      "execution_count": null,
      "outputs": []
    },
    {
      "cell_type": "code",
      "source": [
        "pip install cvzone\n"
      ],
      "metadata": {
        "id": "QLlsjhbScgpD"
      },
      "execution_count": null,
      "outputs": []
    },
    {
      "cell_type": "code",
      "source": [
        "import cvzone\n",
        "import math\n",
        "import cv2"
      ],
      "metadata": {
        "id": "3H8QBjZacisT"
      },
      "execution_count": null,
      "outputs": []
    },
    {
      "cell_type": "code",
      "source": [
        "!pip install opencv-python-headless\n",
        "!pip install google-colab"
      ],
      "metadata": {
        "id": "QaYs97Ubcpiu"
      },
      "execution_count": null,
      "outputs": []
    },
    {
      "cell_type": "code",
      "source": [
        "pip install filterpy==1.4.5"
      ],
      "metadata": {
        "id": "_07h2wgFcre2"
      },
      "execution_count": null,
      "outputs": []
    },
    {
      "cell_type": "code",
      "source": [
        "pip install scikit-image"
      ],
      "metadata": {
        "id": "-0LZsjhhcvRp"
      },
      "execution_count": null,
      "outputs": []
    },
    {
      "cell_type": "code",
      "source": [
        "pip install lap==0.4.0"
      ],
      "metadata": {
        "id": "YuJOfe5ucxFc"
      },
      "execution_count": null,
      "outputs": []
    },
    {
      "cell_type": "code",
      "source": [
        "import sys\n",
        "sys.path.insert(0,'/content/drive/MyDrive/101-Object_Detection/Pliki/Project_4-Poker_Hand_Detector')"
      ],
      "metadata": {
        "id": "YU6fziShcymi"
      },
      "execution_count": null,
      "outputs": []
    },
    {
      "cell_type": "code",
      "source": [
        "sys.path.append('/content/drive/MyDrive/101 - Object Detection /Pliki z kursu/Project 1 - Car Counter/sort.py')"
      ],
      "metadata": {
        "id": "0rpGL3ZldNxD"
      },
      "execution_count": null,
      "outputs": []
    },
    {
      "cell_type": "code",
      "source": [
        "sys.path.append('/content/drive/MyDrive/101-Object_Detection/Pliki/Project_4-Poker_Hand_Detector/pokerHandDetectorFunctions.py')"
      ],
      "metadata": {
        "id": "n88Ub6pDhsHV"
      },
      "execution_count": 22,
      "outputs": []
    },
    {
      "cell_type": "code",
      "source": [
        "!cp -r \"/content/drive/MyDrive/101-Object_Detection/Pliki/Project 1 - Car Counter/sort.py\" '/content/'"
      ],
      "metadata": {
        "id": "KuQF0flVdSdu"
      },
      "execution_count": null,
      "outputs": []
    },
    {
      "cell_type": "code",
      "source": [
        "!cp -r \"/content/drive/MyDrive/101-Object_Detection/Pliki/Project_4-Poker_Hand_Detector/pokerHandDetectorFunctions.py\" '/content/'"
      ],
      "metadata": {
        "id": "8fRQSLxAibdr"
      },
      "execution_count": 23,
      "outputs": []
    },
    {
      "cell_type": "code",
      "source": [
        "from sort import *"
      ],
      "metadata": {
        "id": "GBDil8yvdYMx"
      },
      "execution_count": null,
      "outputs": []
    },
    {
      "cell_type": "code",
      "source": [
        "import pokerHandDetectorFunctions"
      ],
      "metadata": {
        "id": "nEZpW7pxhh-o"
      },
      "execution_count": 24,
      "outputs": []
    },
    {
      "cell_type": "code",
      "source": [
        "from IPython.display import display, Javascript\n",
        "from google.colab.output import eval_js\n",
        "from base64 import b64decode\n",
        "\n",
        "def take_photo(filename='photo.jpg', quality=0.8):\n",
        "  js = Javascript('''\n",
        "    async function takePhoto(quality) {\n",
        "      const div = document.createElement('div');\n",
        "      const capture = document.createElement('button');\n",
        "      capture.textContent = 'Capture';\n",
        "      div.appendChild(capture);\n",
        "\n",
        "      const video = document.createElement('video');\n",
        "      video.style.display = 'block';\n",
        "      const stream = await navigator.mediaDevices.getUserMedia({video: true});\n",
        "\n",
        "      document.body.appendChild(div);\n",
        "      div.appendChild(video);\n",
        "      video.srcObject = stream;\n",
        "      await video.play();\n",
        "\n",
        "      // Resize the output to fit the video element.\n",
        "      google.colab.output.setIframeHeight(document.documentElement.scrollHeight, true);\n",
        "\n",
        "      // Wait for Capture to be clicked.\n",
        "      await new Promise((resolve) => capture.onclick = resolve);\n",
        "\n",
        "      const canvas = document.createElement('canvas');\n",
        "      canvas.width = video.videoWidth;\n",
        "      canvas.height = video.videoHeight;\n",
        "      canvas.getContext('2d').drawImage(video, 0, 0);\n",
        "      stream.getVideoTracks()[0].stop();\n",
        "      div.remove();\n",
        "      return canvas.toDataURL('image/jpeg', quality);\n",
        "    }\n",
        "    ''')\n",
        "  display(js)\n",
        "  data = eval_js('takePhoto({})'.format(quality))\n",
        "  binary = b64decode(data.split(',')[1])\n",
        "  with open(filename, 'wb') as f:\n",
        "    f.write(binary)\n",
        "  return filename"
      ],
      "metadata": {
        "id": "MWMNqd8FgHgE"
      },
      "execution_count": 17,
      "outputs": []
    },
    {
      "cell_type": "code",
      "source": [
        "from IPython.display import Image\n",
        "try:\n",
        "  filename = take_photo()\n",
        "  print('Saved to {}'.format(filename))\n",
        "\n",
        "  # Show the image which was just taken.\n",
        "  display(Image(filename))\n",
        "except Exception as err:\n",
        "  # Errors will be thrown if the user does not have a webcam or if they do not\n",
        "  # grant the page permission to access it.\n",
        "  print(str(err))"
      ],
      "metadata": {
        "id": "rhi01d2KgIwe"
      },
      "execution_count": null,
      "outputs": []
    },
    {
      "cell_type": "code",
      "source": [
        "model= YOLO('/content/drive/MyDrive/101-Object_Detection/Pliki/Project_4-Poker_Hand_Detector/playingCards.pt')"
      ],
      "metadata": {
        "id": "Q3q76Wdwdquv"
      },
      "execution_count": 18,
      "outputs": []
    },
    {
      "cell_type": "code",
      "source": [
        "classNames = ['10C', '10D', '10H', '10S', '2C', '2D', '2H', '2S',\n",
        "              '3C', '3D', '3H', '3S', '4C', '4D', '4H', '4S',\n",
        "              '5C', '5D', '5H', '5S', '6C', '6D', '6H', '6S',\n",
        "              '7C', '7D', '7H', '7S', '8C', '8D', '8H', '8S',\n",
        "              '9C', '9D', '9H', '9S', 'AC', 'AD', 'AH', 'AS',\n",
        "              'JC', 'JD', 'JH', 'JS', 'KC', 'KD', 'KH', 'KS',\n",
        "              'QC', 'QD', 'QH', 'QS']\n",
        ""
      ],
      "metadata": {
        "id": "xIqeXkqSdt58"
      },
      "execution_count": null,
      "outputs": []
    },
    {
      "cell_type": "code",
      "source": [
        "hand =[]"
      ],
      "metadata": {
        "id": "2-5_M7rti1Xa"
      },
      "execution_count": 25,
      "outputs": []
    },
    {
      "cell_type": "code",
      "source": [
        "while True:\n",
        "    success, img = cap.read()\n",
        "    results = model(img,stream=True)\n",
        "    for r in results:\n",
        "        boxes = r.boxes\n",
        "        for box in boxes:\n",
        "            #bounding box\n",
        "            x1,y1,x2,y2 = box.xyxy[0]\n",
        "            x1, y1, x2, y2 = int(x1),int(y1),int(x2),int(y2)\n",
        "            # cv2.rectangle(img,(x1,y1),(x2,y2),(255,0,255),3)\n",
        "            w, h = x2-x1, y2-y1\n",
        "            bbox = int(x1), int(y1), int(x2), int(y2)\n",
        "            cvzone.cornerRect(img,(x1,y1,w,h))\n",
        "            #confidence\n",
        "            conf = math.ceil((box.conf[0]*100))/100\n",
        "            print(conf)\n",
        "\n",
        "            #clas name\n",
        "            cls = int(box.cls[0])\n",
        "            cvzone.putTextRect(img, f'{classNames[cls]} {conf}', (max(0, x1), max(35, y1)),scale=2,thickness=2)\n",
        "\n",
        "    if len(hand) == 5:\n",
        "      results = pokerHandDetectorFunctions.findPokerHand(hand)\n",
        "\n",
        "    cv2_imshow(img)\n",
        "    cv2.waitKey(1)\n"
      ],
      "metadata": {
        "id": "OjWuqYmBd2KR"
      },
      "execution_count": null,
      "outputs": []
    }
  ]
}